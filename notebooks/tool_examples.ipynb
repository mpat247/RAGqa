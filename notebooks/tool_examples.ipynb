{
  "nbformat": 4,
  "nbformat_minor": 0,
  "metadata": {
    "colab": {
      "provenance": [],
      "gpuType": "L4"
    },
    "kernelspec": {
      "name": "python3",
      "display_name": "Python 3"
    },
    "language_info": {
      "name": "python"
    },
    "accelerator": "GPU"
  },
  "cells": [
    {
      "cell_type": "code",
      "execution_count": null,
      "metadata": {
        "id": "O148O7Pb3CGK"
      },
      "outputs": [],
      "source": [
        "import os\n",
        "os.environ['GROQ_API_KEY'] = '????'"
      ]
    },
    {
      "cell_type": "code",
      "source": [
        "%%capture\n",
        "!pip install aisuite\n",
        "!pip install groq\n",
        "#!pip install dotenv"
      ],
      "metadata": {
        "id": "5TN8EA3k3i0i"
      },
      "execution_count": null,
      "outputs": []
    },
    {
      "cell_type": "code",
      "source": [
        "import aisuite as ai\n",
        "def will_it_rain(location: str, time_of_day: str):\n",
        "    \"\"\"Check if it will rain in a location at a given time today.\n",
        "\n",
        "    Args:\n",
        "        location (str): Name of the city\n",
        "        time_of_day (str): Time of the day in HH:MM format.\n",
        "    \"\"\"\n",
        "    return \"NO\"\n",
        "\n",
        "'''\n",
        "def open_coffees(location: str):\n",
        "    \"\"\"Check if there is any open coffee that suitable for remote working in the city.\n",
        "\n",
        "    Args:\n",
        "        location (str): Name of the city\n",
        "    \"\"\"\n",
        "    return [\"Starbucsk\",\"Nero\",\"X shops\"]\n",
        "'''\n",
        "\n",
        "\n",
        "tools = [{\n",
        "    \"type\": \"function\",\n",
        "    \"function\": {\n",
        "        \"name\": \"will_it_rain\",\n",
        "        \"description\": \"Check if it will rain in a location at a given time today\",\n",
        "        \"parameters\": {\n",
        "            \"type\": \"object\",\n",
        "            \"properties\": {\n",
        "                \"location\": {\n",
        "                    \"type\": \"string\",\n",
        "                    \"description\": \"Name of the city\"\n",
        "                },\n",
        "                \"time_of_day\": {\n",
        "                    \"type\": \"string\",\n",
        "                    \"description\": \"Time of the day in HH:MM format.\"\n",
        "                }\n",
        "            },\n",
        "            \"required\": [\"location\", \"time_of_day\"]\n",
        "        }\n",
        "    }\n",
        "}]\n",
        "\n",
        "\n",
        "client = ai.Client()\n",
        "\n",
        "messages = [{\n",
        "    \"role\": \"user\",\n",
        "    \"content\": \"I live in San Francisco. Can you check for weather at 14:00 ?\"\n",
        "}]\n",
        "\n",
        "response = client.chat.completions.create(\n",
        "    model=\"groq:llama-3.3-70b-versatile\",\n",
        "    messages=messages,\n",
        "   #tools=[will_it_rain],\n",
        "    tools=tools,\n",
        "    max_turns=2  # Maximum number of back-and-forth tool calls\n",
        ")\n",
        "\n",
        "print(response.choices[0].message.content)"
      ],
      "metadata": {
        "id": "Cp2Mf0H0iIaG"
      },
      "execution_count": null,
      "outputs": []
    },
    {
      "cell_type": "code",
      "source": [],
      "metadata": {
        "id": "9MH-HZCZl9mC"
      },
      "execution_count": null,
      "outputs": []
    }
  ]
}