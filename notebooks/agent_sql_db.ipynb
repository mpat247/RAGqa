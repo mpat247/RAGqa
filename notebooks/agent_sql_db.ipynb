{
  "cells": [
    {
      "cell_type": "markdown",
      "id": "44ce8079-c3b4-4537-844e-7e6d6706e923",
      "metadata": {
        "id": "44ce8079-c3b4-4537-844e-7e6d6706e923"
      },
      "source": [
        "# Building an Agent"
      ]
    },
    {
      "cell_type": "markdown",
      "id": "0a4c9a24-4d77-43ca-84fd-5155b4e4c777",
      "metadata": {
        "id": "0a4c9a24-4d77-43ca-84fd-5155b4e4c777"
      },
      "source": []
    },
    {
      "cell_type": "code",
      "source": [
        "from google.colab import drive\n",
        "drive.mount('/content/drive')"
      ],
      "metadata": {
        "colab": {
          "base_uri": "https://localhost:8080/"
        },
        "id": "C5n-VNwDi66e",
        "outputId": "e75e44bd-f701-430c-c1dd-caf18df30e07"
      },
      "id": "C5n-VNwDi66e",
      "execution_count": null,
      "outputs": [
        {
          "output_type": "stream",
          "name": "stdout",
          "text": [
            "Drive already mounted at /content/drive; to attempt to forcibly remount, call drive.mount(\"/content/drive\", force_remount=True).\n"
          ]
        }
      ]
    },
    {
      "cell_type": "code",
      "source": [
        "import os\n",
        "os.chdir('/content/drive/MyDrive/Courses/Ryerson/8008/Sesssion10')"
      ],
      "metadata": {
        "id": "27P7iur7jHsv"
      },
      "id": "27P7iur7jHsv",
      "execution_count": null,
      "outputs": []
    },
    {
      "cell_type": "markdown",
      "id": "fb9a4f62-de25-4a66-8cdb-f33d1e92ad92",
      "metadata": {
        "id": "fb9a4f62-de25-4a66-8cdb-f33d1e92ad92"
      },
      "source": [
        "## Importing necessary libraries"
      ]
    },
    {
      "cell_type": "code",
      "execution_count": null,
      "id": "e4d6c602-28a5-42f2-9e53-33dac5846cba",
      "metadata": {
        "height": 149,
        "id": "e4d6c602-28a5-42f2-9e53-33dac5846cba"
      },
      "outputs": [],
      "source": [
        "import pandas as pd\n",
        "import json\n",
        "import duckdb\n",
        "from pydantic import BaseModel, Field\n",
        "from IPython.display import Markdown"
      ]
    },
    {
      "cell_type": "markdown",
      "id": "2503d9fe-e023-4446-b1b2-4633ab0efd8e",
      "metadata": {
        "id": "2503d9fe-e023-4446-b1b2-4633ab0efd8e"
      },
      "source": [
        "## Defining the tools"
      ]
    },
    {
      "cell_type": "markdown",
      "id": "1761c2e1-b100-4d3c-b4d7-8c3b4b709c54",
      "metadata": {
        "id": "1761c2e1-b100-4d3c-b4d7-8c3b4b709c54"
      },
      "source": [
        "it contains the transaction data."
      ]
    },
    {
      "cell_type": "code",
      "execution_count": null,
      "id": "78dbdaf9-d5e0-4f0d-aa41-318020ab7b1e",
      "metadata": {
        "height": 62,
        "id": "78dbdaf9-d5e0-4f0d-aa41-318020ab7b1e"
      },
      "outputs": [],
      "source": [
        "DATA = 'data/Store_Sales_Price_Elasticity_Promotions_Data.parquet'"
      ]
    },
    {
      "cell_type": "code",
      "source": [
        "df=pd.read_parquet(DATA)\n",
        "df."
      ],
      "metadata": {
        "colab": {
          "base_uri": "https://localhost:8080/",
          "height": 206
        },
        "id": "OI7nHYXt4VhZ",
        "outputId": "c9d78d9f-fe72-4e72-f943-766872d49f9d"
      },
      "id": "OI7nHYXt4VhZ",
      "execution_count": null,
      "outputs": [
        {
          "output_type": "execute_result",
          "data": {
            "text/plain": [
              "   Store_Number  SKU_Coded  Product_Class_Code   Sold_Date  Qty_Sold  \\\n",
              "0          1320    6172800               22875  2021-11-02         3   \n",
              "1          2310    6172800               22875  2021-11-03         1   \n",
              "2          3080    6172800               22875  2021-11-03         1   \n",
              "3          2310    6172800               22875  2021-11-06         1   \n",
              "4          4840    6172800               22875  2021-11-07         1   \n",
              "\n",
              "   Total_Sale_Value  On_Promo  \n",
              "0         56.849998         0  \n",
              "1         18.950001         0  \n",
              "2         18.950001         0  \n",
              "3         18.950001         0  \n",
              "4         18.950001         0  "
            ],
            "text/html": [
              "\n",
              "  <div id=\"df-11321db9-ad58-405d-9cfe-2e2c1f798b8c\" class=\"colab-df-container\">\n",
              "    <div>\n",
              "<style scoped>\n",
              "    .dataframe tbody tr th:only-of-type {\n",
              "        vertical-align: middle;\n",
              "    }\n",
              "\n",
              "    .dataframe tbody tr th {\n",
              "        vertical-align: top;\n",
              "    }\n",
              "\n",
              "    .dataframe thead th {\n",
              "        text-align: right;\n",
              "    }\n",
              "</style>\n",
              "<table border=\"1\" class=\"dataframe\">\n",
              "  <thead>\n",
              "    <tr style=\"text-align: right;\">\n",
              "      <th></th>\n",
              "      <th>Store_Number</th>\n",
              "      <th>SKU_Coded</th>\n",
              "      <th>Product_Class_Code</th>\n",
              "      <th>Sold_Date</th>\n",
              "      <th>Qty_Sold</th>\n",
              "      <th>Total_Sale_Value</th>\n",
              "      <th>On_Promo</th>\n",
              "    </tr>\n",
              "  </thead>\n",
              "  <tbody>\n",
              "    <tr>\n",
              "      <th>0</th>\n",
              "      <td>1320</td>\n",
              "      <td>6172800</td>\n",
              "      <td>22875</td>\n",
              "      <td>2021-11-02</td>\n",
              "      <td>3</td>\n",
              "      <td>56.849998</td>\n",
              "      <td>0</td>\n",
              "    </tr>\n",
              "    <tr>\n",
              "      <th>1</th>\n",
              "      <td>2310</td>\n",
              "      <td>6172800</td>\n",
              "      <td>22875</td>\n",
              "      <td>2021-11-03</td>\n",
              "      <td>1</td>\n",
              "      <td>18.950001</td>\n",
              "      <td>0</td>\n",
              "    </tr>\n",
              "    <tr>\n",
              "      <th>2</th>\n",
              "      <td>3080</td>\n",
              "      <td>6172800</td>\n",
              "      <td>22875</td>\n",
              "      <td>2021-11-03</td>\n",
              "      <td>1</td>\n",
              "      <td>18.950001</td>\n",
              "      <td>0</td>\n",
              "    </tr>\n",
              "    <tr>\n",
              "      <th>3</th>\n",
              "      <td>2310</td>\n",
              "      <td>6172800</td>\n",
              "      <td>22875</td>\n",
              "      <td>2021-11-06</td>\n",
              "      <td>1</td>\n",
              "      <td>18.950001</td>\n",
              "      <td>0</td>\n",
              "    </tr>\n",
              "    <tr>\n",
              "      <th>4</th>\n",
              "      <td>4840</td>\n",
              "      <td>6172800</td>\n",
              "      <td>22875</td>\n",
              "      <td>2021-11-07</td>\n",
              "      <td>1</td>\n",
              "      <td>18.950001</td>\n",
              "      <td>0</td>\n",
              "    </tr>\n",
              "  </tbody>\n",
              "</table>\n",
              "</div>\n",
              "    <div class=\"colab-df-buttons\">\n",
              "\n",
              "  <div class=\"colab-df-container\">\n",
              "    <button class=\"colab-df-convert\" onclick=\"convertToInteractive('df-11321db9-ad58-405d-9cfe-2e2c1f798b8c')\"\n",
              "            title=\"Convert this dataframe to an interactive table.\"\n",
              "            style=\"display:none;\">\n",
              "\n",
              "  <svg xmlns=\"http://www.w3.org/2000/svg\" height=\"24px\" viewBox=\"0 -960 960 960\">\n",
              "    <path d=\"M120-120v-720h720v720H120Zm60-500h600v-160H180v160Zm220 220h160v-160H400v160Zm0 220h160v-160H400v160ZM180-400h160v-160H180v160Zm440 0h160v-160H620v160ZM180-180h160v-160H180v160Zm440 0h160v-160H620v160Z\"/>\n",
              "  </svg>\n",
              "    </button>\n",
              "\n",
              "  <style>\n",
              "    .colab-df-container {\n",
              "      display:flex;\n",
              "      gap: 12px;\n",
              "    }\n",
              "\n",
              "    .colab-df-convert {\n",
              "      background-color: #E8F0FE;\n",
              "      border: none;\n",
              "      border-radius: 50%;\n",
              "      cursor: pointer;\n",
              "      display: none;\n",
              "      fill: #1967D2;\n",
              "      height: 32px;\n",
              "      padding: 0 0 0 0;\n",
              "      width: 32px;\n",
              "    }\n",
              "\n",
              "    .colab-df-convert:hover {\n",
              "      background-color: #E2EBFA;\n",
              "      box-shadow: 0px 1px 2px rgba(60, 64, 67, 0.3), 0px 1px 3px 1px rgba(60, 64, 67, 0.15);\n",
              "      fill: #174EA6;\n",
              "    }\n",
              "\n",
              "    .colab-df-buttons div {\n",
              "      margin-bottom: 4px;\n",
              "    }\n",
              "\n",
              "    [theme=dark] .colab-df-convert {\n",
              "      background-color: #3B4455;\n",
              "      fill: #D2E3FC;\n",
              "    }\n",
              "\n",
              "    [theme=dark] .colab-df-convert:hover {\n",
              "      background-color: #434B5C;\n",
              "      box-shadow: 0px 1px 3px 1px rgba(0, 0, 0, 0.15);\n",
              "      filter: drop-shadow(0px 1px 2px rgba(0, 0, 0, 0.3));\n",
              "      fill: #FFFFFF;\n",
              "    }\n",
              "  </style>\n",
              "\n",
              "    <script>\n",
              "      const buttonEl =\n",
              "        document.querySelector('#df-11321db9-ad58-405d-9cfe-2e2c1f798b8c button.colab-df-convert');\n",
              "      buttonEl.style.display =\n",
              "        google.colab.kernel.accessAllowed ? 'block' : 'none';\n",
              "\n",
              "      async function convertToInteractive(key) {\n",
              "        const element = document.querySelector('#df-11321db9-ad58-405d-9cfe-2e2c1f798b8c');\n",
              "        const dataTable =\n",
              "          await google.colab.kernel.invokeFunction('convertToInteractive',\n",
              "                                                    [key], {});\n",
              "        if (!dataTable) return;\n",
              "\n",
              "        const docLinkHtml = 'Like what you see? Visit the ' +\n",
              "          '<a target=\"_blank\" href=https://colab.research.google.com/notebooks/data_table.ipynb>data table notebook</a>'\n",
              "          + ' to learn more about interactive tables.';\n",
              "        element.innerHTML = '';\n",
              "        dataTable['output_type'] = 'display_data';\n",
              "        await google.colab.output.renderOutput(dataTable, element);\n",
              "        const docLink = document.createElement('div');\n",
              "        docLink.innerHTML = docLinkHtml;\n",
              "        element.appendChild(docLink);\n",
              "      }\n",
              "    </script>\n",
              "  </div>\n",
              "\n",
              "\n",
              "<div id=\"df-a534dfd4-4e43-43d4-a401-a625c35a1119\">\n",
              "  <button class=\"colab-df-quickchart\" onclick=\"quickchart('df-a534dfd4-4e43-43d4-a401-a625c35a1119')\"\n",
              "            title=\"Suggest charts\"\n",
              "            style=\"display:none;\">\n",
              "\n",
              "<svg xmlns=\"http://www.w3.org/2000/svg\" height=\"24px\"viewBox=\"0 0 24 24\"\n",
              "     width=\"24px\">\n",
              "    <g>\n",
              "        <path d=\"M19 3H5c-1.1 0-2 .9-2 2v14c0 1.1.9 2 2 2h14c1.1 0 2-.9 2-2V5c0-1.1-.9-2-2-2zM9 17H7v-7h2v7zm4 0h-2V7h2v10zm4 0h-2v-4h2v4z\"/>\n",
              "    </g>\n",
              "</svg>\n",
              "  </button>\n",
              "\n",
              "<style>\n",
              "  .colab-df-quickchart {\n",
              "      --bg-color: #E8F0FE;\n",
              "      --fill-color: #1967D2;\n",
              "      --hover-bg-color: #E2EBFA;\n",
              "      --hover-fill-color: #174EA6;\n",
              "      --disabled-fill-color: #AAA;\n",
              "      --disabled-bg-color: #DDD;\n",
              "  }\n",
              "\n",
              "  [theme=dark] .colab-df-quickchart {\n",
              "      --bg-color: #3B4455;\n",
              "      --fill-color: #D2E3FC;\n",
              "      --hover-bg-color: #434B5C;\n",
              "      --hover-fill-color: #FFFFFF;\n",
              "      --disabled-bg-color: #3B4455;\n",
              "      --disabled-fill-color: #666;\n",
              "  }\n",
              "\n",
              "  .colab-df-quickchart {\n",
              "    background-color: var(--bg-color);\n",
              "    border: none;\n",
              "    border-radius: 50%;\n",
              "    cursor: pointer;\n",
              "    display: none;\n",
              "    fill: var(--fill-color);\n",
              "    height: 32px;\n",
              "    padding: 0;\n",
              "    width: 32px;\n",
              "  }\n",
              "\n",
              "  .colab-df-quickchart:hover {\n",
              "    background-color: var(--hover-bg-color);\n",
              "    box-shadow: 0 1px 2px rgba(60, 64, 67, 0.3), 0 1px 3px 1px rgba(60, 64, 67, 0.15);\n",
              "    fill: var(--button-hover-fill-color);\n",
              "  }\n",
              "\n",
              "  .colab-df-quickchart-complete:disabled,\n",
              "  .colab-df-quickchart-complete:disabled:hover {\n",
              "    background-color: var(--disabled-bg-color);\n",
              "    fill: var(--disabled-fill-color);\n",
              "    box-shadow: none;\n",
              "  }\n",
              "\n",
              "  .colab-df-spinner {\n",
              "    border: 2px solid var(--fill-color);\n",
              "    border-color: transparent;\n",
              "    border-bottom-color: var(--fill-color);\n",
              "    animation:\n",
              "      spin 1s steps(1) infinite;\n",
              "  }\n",
              "\n",
              "  @keyframes spin {\n",
              "    0% {\n",
              "      border-color: transparent;\n",
              "      border-bottom-color: var(--fill-color);\n",
              "      border-left-color: var(--fill-color);\n",
              "    }\n",
              "    20% {\n",
              "      border-color: transparent;\n",
              "      border-left-color: var(--fill-color);\n",
              "      border-top-color: var(--fill-color);\n",
              "    }\n",
              "    30% {\n",
              "      border-color: transparent;\n",
              "      border-left-color: var(--fill-color);\n",
              "      border-top-color: var(--fill-color);\n",
              "      border-right-color: var(--fill-color);\n",
              "    }\n",
              "    40% {\n",
              "      border-color: transparent;\n",
              "      border-right-color: var(--fill-color);\n",
              "      border-top-color: var(--fill-color);\n",
              "    }\n",
              "    60% {\n",
              "      border-color: transparent;\n",
              "      border-right-color: var(--fill-color);\n",
              "    }\n",
              "    80% {\n",
              "      border-color: transparent;\n",
              "      border-right-color: var(--fill-color);\n",
              "      border-bottom-color: var(--fill-color);\n",
              "    }\n",
              "    90% {\n",
              "      border-color: transparent;\n",
              "      border-bottom-color: var(--fill-color);\n",
              "    }\n",
              "  }\n",
              "</style>\n",
              "\n",
              "  <script>\n",
              "    async function quickchart(key) {\n",
              "      const quickchartButtonEl =\n",
              "        document.querySelector('#' + key + ' button');\n",
              "      quickchartButtonEl.disabled = true;  // To prevent multiple clicks.\n",
              "      quickchartButtonEl.classList.add('colab-df-spinner');\n",
              "      try {\n",
              "        const charts = await google.colab.kernel.invokeFunction(\n",
              "            'suggestCharts', [key], {});\n",
              "      } catch (error) {\n",
              "        console.error('Error during call to suggestCharts:', error);\n",
              "      }\n",
              "      quickchartButtonEl.classList.remove('colab-df-spinner');\n",
              "      quickchartButtonEl.classList.add('colab-df-quickchart-complete');\n",
              "    }\n",
              "    (() => {\n",
              "      let quickchartButtonEl =\n",
              "        document.querySelector('#df-a534dfd4-4e43-43d4-a401-a625c35a1119 button');\n",
              "      quickchartButtonEl.style.display =\n",
              "        google.colab.kernel.accessAllowed ? 'block' : 'none';\n",
              "    })();\n",
              "  </script>\n",
              "</div>\n",
              "\n",
              "    </div>\n",
              "  </div>\n"
            ],
            "application/vnd.google.colaboratory.intrinsic+json": {
              "type": "dataframe",
              "variable_name": "df"
            }
          },
          "metadata": {},
          "execution_count": 29
        }
      ]
    },
    {
      "cell_type": "markdown",
      "id": "0b7a0d24-185a-47a4-a27b-3959cb1e0ba1",
      "metadata": {
        "id": "0b7a0d24-185a-47a4-a27b-3959cb1e0ba1"
      },
      "source": [
        "Creates the SQL table from a local file, if not already done."
      ]
    },
    {
      "cell_type": "code",
      "execution_count": null,
      "id": "2dd37619-7785-41de-9986-6260d6e17221",
      "metadata": {
        "height": 164,
        "id": "2dd37619-7785-41de-9986-6260d6e17221"
      },
      "outputs": [],
      "source": [
        "SQL_GENERATION_PROMPT = \"\"\"\n",
        "Generate an SQL query based on a prompt. Do not reply with anything besides the SQL query.\n",
        "The prompt is: {prompt}\n",
        "\n",
        "The available columns are: {columns}\n",
        "The table name is: {table_name}\n",
        "\"\"\""
      ]
    },
    {
      "cell_type": "code",
      "source": [
        "!pip install groq"
      ],
      "metadata": {
        "colab": {
          "base_uri": "https://localhost:8080/"
        },
        "id": "UNf9o1SkkgNi",
        "outputId": "e57c0e43-315d-4a7c-a355-66b6ea1c5808"
      },
      "id": "UNf9o1SkkgNi",
      "execution_count": null,
      "outputs": [
        {
          "output_type": "stream",
          "name": "stdout",
          "text": [
            "Requirement already satisfied: groq in /usr/local/lib/python3.11/dist-packages (0.20.0)\n",
            "Requirement already satisfied: anyio<5,>=3.5.0 in /usr/local/lib/python3.11/dist-packages (from groq) (4.9.0)\n",
            "Requirement already satisfied: distro<2,>=1.7.0 in /usr/local/lib/python3.11/dist-packages (from groq) (1.9.0)\n",
            "Requirement already satisfied: httpx<1,>=0.23.0 in /usr/local/lib/python3.11/dist-packages (from groq) (0.28.1)\n",
            "Requirement already satisfied: pydantic<3,>=1.9.0 in /usr/local/lib/python3.11/dist-packages (from groq) (2.10.6)\n",
            "Requirement already satisfied: sniffio in /usr/local/lib/python3.11/dist-packages (from groq) (1.3.1)\n",
            "Requirement already satisfied: typing-extensions<5,>=4.10 in /usr/local/lib/python3.11/dist-packages (from groq) (4.12.2)\n",
            "Requirement already satisfied: idna>=2.8 in /usr/local/lib/python3.11/dist-packages (from anyio<5,>=3.5.0->groq) (3.10)\n",
            "Requirement already satisfied: certifi in /usr/local/lib/python3.11/dist-packages (from httpx<1,>=0.23.0->groq) (2025.1.31)\n",
            "Requirement already satisfied: httpcore==1.* in /usr/local/lib/python3.11/dist-packages (from httpx<1,>=0.23.0->groq) (1.0.7)\n",
            "Requirement already satisfied: h11<0.15,>=0.13 in /usr/local/lib/python3.11/dist-packages (from httpcore==1.*->httpx<1,>=0.23.0->groq) (0.14.0)\n",
            "Requirement already satisfied: annotated-types>=0.6.0 in /usr/local/lib/python3.11/dist-packages (from pydantic<3,>=1.9.0->groq) (0.7.0)\n",
            "Requirement already satisfied: pydantic-core==2.27.2 in /usr/local/lib/python3.11/dist-packages (from pydantic<3,>=1.9.0->groq) (2.27.2)\n"
          ]
        }
      ]
    },
    {
      "cell_type": "code",
      "source": [],
      "metadata": {
        "id": "THGr0NzbpR8G"
      },
      "id": "THGr0NzbpR8G",
      "execution_count": null,
      "outputs": []
    },
    {
      "cell_type": "code",
      "source": [
        "# USE your own key from groq\n",
        "os.environ['GROQ_API_KEY'] = '?????????'\n",
        "MODEL=\"llama-3.3-70b-versatile\"\n",
        "import os\n",
        "from groq import Groq\n",
        "client = Groq(\n",
        "    api_key=os.environ.get(\"GROQ_API_KEY\"),\n",
        ")\n",
        "\n",
        "\n",
        "q=\"What is the temperature ?\"\n",
        "context=\"it is 25 degree today\"\n",
        "\n",
        "chat_completion = client.chat.completions.create(\n",
        "    messages=[\n",
        "        {\n",
        "            \"role\": \"user\",\n",
        "            \"content\": f\"Query:{q} Context :{context}\",\n",
        "        }\n",
        "    ],\n",
        "    model=\"llama-3.3-70b-versatile\",\n",
        "    #model=\"deepseek-r1-distill-llama-70b\"\n",
        "  )\n",
        "\n",
        "pred=chat_completion.choices[0].message.content\n",
        "print(pred)"
      ],
      "metadata": {
        "colab": {
          "base_uri": "https://localhost:8080/"
        },
        "id": "HJ31S3P2kGQi",
        "outputId": "fb418bb4-afab-4f8d-e465-66b08d17c188"
      },
      "id": "HJ31S3P2kGQi",
      "execution_count": null,
      "outputs": [
        {
          "output_type": "stream",
          "name": "stdout",
          "text": [
            "The temperature is 25 degrees today.\n"
          ]
        }
      ]
    },
    {
      "cell_type": "code",
      "execution_count": null,
      "id": "1b7c2f28-2ec1-43de-b555-d300d916c47d",
      "metadata": {
        "height": 249,
        "id": "1b7c2f28-2ec1-43de-b555-d300d916c47d"
      },
      "outputs": [],
      "source": [
        "def generate_sql_query(prompt: str, columns: list, table_name: str) -> str:\n",
        "    \"\"\"Generate an SQL query based on a prompt\"\"\"\n",
        "    formatted_prompt = SQL_GENERATION_PROMPT.format(prompt=prompt,\n",
        "                                                    columns=columns,\n",
        "                                                    table_name=table_name)\n",
        "    print(formatted_prompt)\n",
        "    response = client.chat.completions.create(\n",
        "        messages=[{\"role\": \"user\", \"content\": formatted_prompt}],\n",
        "        model=MODEL,\n",
        "    )\n",
        "\n",
        "    return response.choices[0].message.content"
      ]
    },
    {
      "cell_type": "code",
      "execution_count": null,
      "id": "cdb59fa5-f096-4ba6-9967-4dffea8aa5cb",
      "metadata": {
        "height": 436,
        "id": "cdb59fa5-f096-4ba6-9967-4dffea8aa5cb"
      },
      "outputs": [],
      "source": [
        "def lookup_sales_data(prompt: str) -> str:\n",
        "    \"\"\"Implementation of sales data lookup from parquet file using SQL\"\"\"\n",
        "    try:\n",
        "\n",
        "        # define the table name\n",
        "        table_name = \"sales\"\n",
        "\n",
        "        # step 1: read the parquet file into a DuckDB table\n",
        "        df = pd.read_parquet(DATA)\n",
        "        duckdb.sql(f\"CREATE TABLE IF NOT EXISTS {table_name} AS SELECT * FROM df\")\n",
        "\n",
        "        # step 2: generate the SQL code\n",
        "        sql_query = generate_sql_query(prompt, df.columns, table_name)\n",
        "        print(sql_query)\n",
        "        # clean the response to make sure it only includes the SQL code\n",
        "        sql_query = sql_query.strip()\n",
        "        sql_query = sql_query.replace(\"```sql\", \"\").replace(\"```\", \"\")\n",
        "\n",
        "        # step 3: execute the SQL query\n",
        "        result = duckdb.sql(sql_query).df()\n",
        "\n",
        "        return result.to_string()\n",
        "    except Exception as e:\n",
        "        return f\"Error accessing data: {str(e)}\""
      ]
    },
    {
      "cell_type": "markdown",
      "id": "f044f10e-6fd1-4514-94b5-3d62fe2b23d1",
      "metadata": {
        "id": "f044f10e-6fd1-4514-94b5-3d62fe2b23d1"
      },
      "source": [
        "\n"
      ]
    },
    {
      "cell_type": "code",
      "execution_count": null,
      "id": "7391d9ff-55f1-4b1d-bfe5-a4df403bf4b9",
      "metadata": {
        "height": 62,
        "colab": {
          "base_uri": "https://localhost:8080/"
        },
        "id": "7391d9ff-55f1-4b1d-bfe5-a4df403bf4b9",
        "outputId": "c783d60c-7670-4aa6-b633-4e18b2886d91"
      },
      "outputs": [
        {
          "output_type": "stream",
          "name": "stdout",
          "text": [
            "\n",
            "Generate an SQL query based on a prompt. Do not reply with anything besides the SQL query.\n",
            "The prompt is: List Stores (Store_number) and their count \n",
            "\n",
            "The available columns are: Index(['Store_Number', 'SKU_Coded', 'Product_Class_Code', 'Sold_Date',\n",
            "       'Qty_Sold', 'Total_Sale_Value', 'On_Promo'],\n",
            "      dtype='object')\n",
            "The table name is: sales\n",
            "\n",
            "```sql\n",
            "SELECT Store_Number, COUNT(*) \n",
            "FROM sales \n",
            "GROUP BY Store_Number;\n",
            "```\n",
            "    Store_Number  count_star()\n",
            "0           1320         30131\n",
            "1           3080         25225\n",
            "2           4840         21614\n",
            "3            330         21452\n",
            "4           2090         16937\n",
            "5           1650         29313\n",
            "6            880         22780\n",
            "7           1210         27725\n",
            "8           1760         19642\n",
            "9           2640         17496\n",
            "10          3190         17019\n",
            "11           550         13824\n",
            "12          2750         24149\n",
            "13          1980         13898\n",
            "14          1100         25636\n",
            "15          4070         17265\n",
            "16          1540         23858\n",
            "17          4730         13215\n",
            "18          4180         14725\n",
            "19          3300         30084\n",
            "20          2310         22593\n",
            "21          2200         20083\n",
            "22          2420         21457\n",
            "23          2970         35401\n",
            "24          3410         21544\n",
            "25          3630         21130\n",
            "26          1870         22112\n",
            "27           990         19745\n",
            "28          3740         18243\n",
            "29           660         19188\n",
            "30           770         16044\n",
            "31          2530         17447\n",
            "32          2860          6811\n",
            "33          3520          7877\n",
            "34          4400          2231\n"
          ]
        }
      ],
      "source": [
        "#example_data = lookup_sales_data(\"Show me all the sales for store 4840 on November 1st sort by date \")\n",
        "example_data = lookup_sales_data(\"List Stores (Store_number) and their count \")\n",
        "\n",
        "\n",
        "print(example_data)"
      ]
    },
    {
      "cell_type": "markdown",
      "id": "481388d3-578d-492b-a53c-46811ac573d7",
      "metadata": {
        "id": "481388d3-578d-492b-a53c-46811ac573d7"
      },
      "source": [
        "### Tool 2: Data Analysis"
      ]
    },
    {
      "cell_type": "markdown",
      "id": "153a6d53-fcae-41bd-9d3c-e90960874737",
      "metadata": {
        "id": "153a6d53-fcae-41bd-9d3c-e90960874737"
      },
      "source": [
        "The second tool can analyze the returned data and display conclusions to users.\n",
        "\n",
        "<img src=\"images/tool2.png\" width=\"300\"/>"
      ]
    },
    {
      "cell_type": "code",
      "execution_count": null,
      "id": "a3510f56-30c5-446d-a41f-bec5e4a1de36",
      "metadata": {
        "height": 98,
        "id": "a3510f56-30c5-446d-a41f-bec5e4a1de36"
      },
      "outputs": [],
      "source": [
        "DATA_ANALYSIS_PROMPT = \"\"\"\n",
        "Analyze the following data: {data}\n",
        "Your job is to answer the following question: {prompt}\n",
        "\"\"\""
      ]
    },
    {
      "cell_type": "code",
      "execution_count": null,
      "id": "23cb7932-79be-455f-b4fb-83db752d5e43",
      "metadata": {
        "height": 232,
        "id": "23cb7932-79be-455f-b4fb-83db752d5e43"
      },
      "outputs": [],
      "source": [
        "# code for tool 2\n",
        "def analyze_sales_data(prompt: str, data: str) -> str:\n",
        "    \"\"\"Implementation of AI-powered sales data analysis\"\"\"\n",
        "    formatted_prompt = DATA_ANALYSIS_PROMPT.format(data=data, prompt=prompt)\n",
        "    print(formatted_prompt)\n",
        "\n",
        "    response = client.chat.completions.create(\n",
        "        model=MODEL,\n",
        "        messages=[{\"role\": \"user\", \"content\": formatted_prompt}],\n",
        "    )\n",
        "    analysis = response.choices[0].message.content\n",
        "    return analysis if analysis else \"No analysis could be generated\""
      ]
    },
    {
      "cell_type": "markdown",
      "id": "da97ea8e-c101-4e1b-88d0-8ce088590373",
      "metadata": {
        "id": "da97ea8e-c101-4e1b-88d0-8ce088590373"
      },
      "source": [
        "This tool is relatively simple, but let's still test it out to be sure things are working correctly."
      ]
    },
    {
      "cell_type": "code",
      "execution_count": null,
      "id": "18042c0f-ba38-4ebd-925c-9bc7ae0f0b21",
      "metadata": {
        "height": 62,
        "colab": {
          "base_uri": "https://localhost:8080/"
        },
        "id": "18042c0f-ba38-4ebd-925c-9bc7ae0f0b21",
        "outputId": "3020f2d1-cd62-434d-dc3a-d42a43b3617f"
      },
      "outputs": [
        {
          "output_type": "stream",
          "name": "stdout",
          "text": [
            "\n",
            "Analyze the following data:     Store_Number  count_star()\n",
            "0           1320         30131\n",
            "1           3080         25225\n",
            "2           4840         21614\n",
            "3            330         21452\n",
            "4           2090         16937\n",
            "5           1650         29313\n",
            "6            880         22780\n",
            "7           1210         27725\n",
            "8           1760         19642\n",
            "9           2640         17496\n",
            "10          3190         17019\n",
            "11           550         13824\n",
            "12          2750         24149\n",
            "13          1980         13898\n",
            "14          1100         25636\n",
            "15          4070         17265\n",
            "16          1540         23858\n",
            "17          4730         13215\n",
            "18          4180         14725\n",
            "19          3300         30084\n",
            "20          2310         22593\n",
            "21          2200         20083\n",
            "22          2420         21457\n",
            "23          2970         35401\n",
            "24          3410         21544\n",
            "25          3630         21130\n",
            "26          1870         22112\n",
            "27           990         19745\n",
            "28          3740         18243\n",
            "29           660         19188\n",
            "30           770         16044\n",
            "31          2530         17447\n",
            "32          2860          6811\n",
            "33          3520          7877\n",
            "34          4400          2231\n",
            "Your job is to answer the following question: what trends do you see in this data\n",
            "\n",
            "Based on the provided data, which appears to be a count of some kind (likely customer or transaction count) across different store numbers, several trends and observations can be made:\n",
            "\n",
            "1. **Variability in Counts**: The counts (`count_star()`) vary significantly across different store numbers, ranging from as low as 2231 (Store 4400) to as high as 35401 (Store 2970). This suggests that some stores are much more active or popular than others.\n",
            "\n",
            "2. **No Clear Pattern with Store Numbers**: At first glance, there doesn't seem to be a straightforward correlation between the store number and the count. Stores with both low and high numbers have varying counts, suggesting that the store number itself may not be a determining factor in the activity level.\n",
            "\n",
            "3. **Clusters of Activity**: While there's no clear linear relationship between store numbers and counts, there are clusters of stores with high counts. For example, stores like 1320, 1650, 2970, and 3190 (noting that 3190 has a relatively lower count compared to the others mentioned but is still higher than many) have counts that are among the highest. This could indicate geographic or demographic factors that influence store activity.\n",
            "\n",
            "4. **Stores with Low Activity**: Conversely, stores like 4400, 2860, 3520, and to a lesser extent, 770 and 990, have significantly lower counts. This could be due to various factors including location, size, marketing efforts, or the local competition and economy.\n",
            "\n",
            "5. **Potential for Geographic or Demographic Factors**: The significant variation in counts could be influenced by geographic or demographic factors. For instance, stores in urban areas might have higher counts than those in rural areas, or stores in areas with higher population densities or specific demographic profiles might perform better.\n",
            "\n",
            "6. **Outliers and Anomalies**: Stores 2970 and 4400 are notable outliers, with the highest and lowest counts, respectively. Investigating these stores further could reveal unique circumstances or strategies that might be applicable to other stores.\n",
            "\n",
            "7. **Middle Ground**: Many stores fall into a middle range of counts (roughly between 15,000 to 25,000), suggesting a baseline level of activity that might be typical for the majority of stores, with variations due to specific local factors.\n",
            "\n",
            "To further analyze these trends, it would be beneficial to have additional data, such as:\n",
            "- Geographic locations of the stores\n",
            "- Demographic data of the areas where the stores are located\n",
            "- Store sizes or types (e.g., urban vs. rural, large vs. small)\n",
            "- Marketing efforts and local competition\n",
            "- Time of year or seasonal data to see if counts fluctuate regularly\n",
            "\n",
            "This additional context could help in understanding the underlying causes of the observed trends and potentially identifying strategies to improve performance across all stores.\n"
          ]
        }
      ],
      "source": [
        "print(analyze_sales_data(prompt=\"what trends do you see in this data\",\n",
        "                         data=example_data))"
      ]
    },
    {
      "cell_type": "code",
      "source": [],
      "metadata": {
        "id": "kQDZvilC6OMp"
      },
      "id": "kQDZvilC6OMp",
      "execution_count": null,
      "outputs": []
    }
  ],
  "metadata": {
    "kernelspec": {
      "display_name": "Python 3 (ipykernel)",
      "language": "python",
      "name": "python3"
    },
    "language_info": {
      "codemirror_mode": {
        "name": "ipython",
        "version": 3
      },
      "file_extension": ".py",
      "mimetype": "text/x-python",
      "name": "python",
      "nbconvert_exporter": "python",
      "pygments_lexer": "ipython3",
      "version": "3.11.9"
    },
    "colab": {
      "provenance": []
    }
  },
  "nbformat": 4,
  "nbformat_minor": 5
}